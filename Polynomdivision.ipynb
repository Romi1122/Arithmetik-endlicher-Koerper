{
 "cells": [
  {
   "cell_type": "code",
   "execution_count": 26,
   "id": "f9481595",
   "metadata": {},
   "outputs": [
    {
     "name": "stdout",
     "output_type": "stream",
     "text": [
      "importing notebook from FpRechner.ipynb\n"
     ]
    }
   ],
   "source": [
    "%run Module_FpRechner.ipynb"
   ]
  },
  {
   "cell_type": "code",
   "execution_count": 27,
   "id": "46a3359b",
   "metadata": {},
   "outputs": [],
   "source": [
    "import FpRechner as Fp\n",
    "import numpy as np"
   ]
  },
  {
   "cell_type": "code",
   "execution_count": 28,
   "id": "d6150ebe",
   "metadata": {},
   "outputs": [],
   "source": [
    "def fill(a,n):\n",
    "    return np.concatenate((np.zeros(n),a))"
   ]
  },
  {
   "cell_type": "code",
   "execution_count": 29,
   "id": "e38e2bb8",
   "metadata": {},
   "outputs": [],
   "source": [
    "def shiftleft(x,n):\n",
    "    return np.concatenate((x,np.zeros(n, dtype=int)))"
   ]
  },
  {
   "cell_type": "code",
   "execution_count": 30,
   "id": "ff1fdf07",
   "metadata": {},
   "outputs": [],
   "source": [
    "def cut_null(ary):\n",
    "    while(ary[0]==0):\n",
    "        ary=ary[1:]\n",
    "    return np.array(ary,dtype=int)"
   ]
  },
  {
   "cell_type": "code",
   "execution_count": 37,
   "id": "973728d4",
   "metadata": {},
   "outputs": [],
   "source": [
    "def poldiv(ary1,ary2,modulo):\n",
    "    ary1=cut_null(ary1)\n",
    "    ary2=cut_null(ary2)\n",
    "    inv = Fp.inverses(ary2[0],modulo)\n",
    "    \n",
    "    count = len(ary1)-len(ary2)\n",
    "    diff = count\n",
    "    result = np.zeros(diff+1, dtype=int)\n",
    "    \n",
    "    while count >=0 :\n",
    "        idx = diff-count\n",
    "        if(ary1[idx]!=0):\n",
    "            ary2shifted = np.array(shiftleft(ary2,count),dtype=int)\n",
    "            ary2filled = np.array(fill(ary2shifted,idx),dtype=int)            \n",
    "            result[idx]= (inv*ary1[idx])%modulo\n",
    "            ary2multiplicated = np.array((ary2filled*result[idx])%modulo,dtype=int)\n",
    "            ary1 = np.array((ary1-ary2multiplicated)%modulo,dtype=int)            \n",
    "        count = count-1\n",
    "    return tuple(result),tuple(ary1)\n",
    "        "
   ]
  },
  {
   "cell_type": "code",
   "execution_count": 39,
   "id": "c4649b38",
   "metadata": {},
   "outputs": [
    {
     "data": {
      "text/plain": [
       "((2, 0, 1), (0, 0, 0))"
      ]
     },
     "execution_count": 39,
     "metadata": {},
     "output_type": "execute_result"
    }
   ],
   "source": [
    "poldiv((1,0,2),(2,),3)"
   ]
  },
  {
   "cell_type": "code",
   "execution_count": null,
   "id": "45fbbd92",
   "metadata": {},
   "outputs": [],
   "source": []
  }
 ],
 "metadata": {
  "kernelspec": {
   "display_name": "Python 3 (ipykernel)",
   "language": "python",
   "name": "python3"
  },
  "language_info": {
   "codemirror_mode": {
    "name": "ipython",
    "version": 3
   },
   "file_extension": ".py",
   "mimetype": "text/x-python",
   "name": "python",
   "nbconvert_exporter": "python",
   "pygments_lexer": "ipython3",
   "version": "3.11.0"
  }
 },
 "nbformat": 4,
 "nbformat_minor": 5
}
