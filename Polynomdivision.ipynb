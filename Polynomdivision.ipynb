{
 "cells": [
  {
   "cell_type": "markdown",
   "id": "9f309527",
   "metadata": {},
   "source": [
    "# Polynomdivision"
   ]
  },
  {
   "cell_type": "markdown",
   "id": "f93b570b",
   "metadata": {},
   "source": [
    "### Imports der benötigten Module"
   ]
  },
  {
   "cell_type": "code",
   "execution_count": 14,
   "id": "f9481595",
   "metadata": {},
   "outputs": [
    {
     "name": "stdout",
     "output_type": "stream",
     "text": [
      "importing notebook from FpRechner.ipynb\n"
     ]
    }
   ],
   "source": [
    "%run Module_FpRechner.ipynb"
   ]
  },
  {
   "cell_type": "code",
   "execution_count": 15,
   "id": "46a3359b",
   "metadata": {},
   "outputs": [],
   "source": [
    "import FpRechner as Fp\n",
    "import numpy as np"
   ]
  },
  {
   "cell_type": "markdown",
   "id": "335340fd",
   "metadata": {},
   "source": [
    "### Hilfsfunktionen"
   ]
  },
  {
   "cell_type": "markdown",
   "id": "4bf257a7",
   "metadata": {},
   "source": [
    "##### Arrays füllen, shiften und kürzen"
   ]
  },
  {
   "cell_type": "markdown",
   "id": "5578d7c3",
   "metadata": {},
   "source": [
    "$fill(ary,n)$ verlängert ein Array $ary$ von links mit $n$ Nullen"
   ]
  },
  {
   "cell_type": "code",
   "execution_count": 16,
   "id": "d6150ebe",
   "metadata": {},
   "outputs": [],
   "source": [
    "def fill(ary,n):\n",
    "    return np.concatenate((np.zeros(n, dtype=int),ary))"
   ]
  },
  {
   "cell_type": "markdown",
   "id": "80390e23",
   "metadata": {},
   "source": [
    "$shiftleft(ary,n)$ shifted das Array $ary$ um $n$ stellen nach links und füllt rechts mit Nullen auf."
   ]
  },
  {
   "cell_type": "code",
   "execution_count": 17,
   "id": "e38e2bb8",
   "metadata": {},
   "outputs": [],
   "source": [
    "def shiftleft(ary,n):\n",
    "    return np.concatenate((ary,np.zeros(n, dtype=int)))"
   ]
  },
  {
   "cell_type": "markdown",
   "id": "62f1b50b",
   "metadata": {},
   "source": [
    "$cut\\_null(ary)$ schneidet, falls vorhanden, alle Nullen vor der ersten von Null verschiedenen stelle im Array $ary$ weg."
   ]
  },
  {
   "cell_type": "code",
   "execution_count": 28,
   "id": "ff1fdf07",
   "metadata": {},
   "outputs": [],
   "source": [
    "def cut_null(ary):\n",
    "    while(ary[0]==0):\n",
    "        ary=ary[1:]\n",
    "    return np.array(ary,dtype=int)"
   ]
  },
  {
   "cell_type": "markdown",
   "id": "38bdc0c4",
   "metadata": {},
   "source": [
    "$poldiv(ary1,ary2,p)$ teilt das Polynom $ary1$ durch $ary2$ und gibt Ergebnis und Rest zurück.\\\n",
    "Ein Polynom der Form \n",
    "$a_nx^n+a_{n-1}x^{n-1}+\\cdots+a_2x^2+a_1x+a_0$\n",
    "wird den Variablen $ary1$ und $ary2$ als Tupel \n",
    "($a_n$,$a_{n-1}$,$\\cdots$,$a_2$,$a_1$,$a_0$)\n",
    "übergeben."
   ]
  },
  {
   "cell_type": "code",
   "execution_count": 34,
   "id": "973728d4",
   "metadata": {},
   "outputs": [],
   "source": [
    "def poldiv(ary1,ary2,p):\n",
    "    ary1=cut_null(ary1)\n",
    "    ary2=cut_null(ary2)\n",
    "    inv = Fp.inverses(ary2[0],p)\n",
    "    \n",
    "    diff = len(ary1)-len(ary2)\n",
    "    count = diff\n",
    "    result = np.zeros(diff+1, dtype=int)\n",
    "    \n",
    "    while count >=0 :\n",
    "        idx = diff-count\n",
    "        if(ary1[idx]!=0):\n",
    "            ary2shifted = np.array(shiftleft(ary2,count),dtype=int)\n",
    "            ary2filled = np.array(fill(ary2shifted,idx),dtype=int)            \n",
    "            result[idx]= (inv*ary1[idx])%p\n",
    "            ary2multiplicated = np.array((ary2filled*result[idx])%p,dtype=int)\n",
    "            ary1 = np.array((ary1-ary2multiplicated)%p,dtype=int)            \n",
    "        count = count-1\n",
    "    return tuple(result),tuple(ary1)\n",
    "        "
   ]
  },
  {
   "cell_type": "code",
   "execution_count": 37,
   "id": "827622ac",
   "metadata": {},
   "outputs": [
    {
     "data": {
      "text/plain": [
       "((2, 0, 1), (0, 0, 0))"
      ]
     },
     "execution_count": 37,
     "metadata": {},
     "output_type": "execute_result"
    }
   ],
   "source": [
    "poldiv((1,0,2),(2,),3)"
   ]
  }
 ],
 "metadata": {
  "kernelspec": {
   "display_name": "Python 3 (ipykernel)",
   "language": "python",
   "name": "python3"
  },
  "language_info": {
   "codemirror_mode": {
    "name": "ipython",
    "version": 3
   },
   "file_extension": ".py",
   "mimetype": "text/x-python",
   "name": "python",
   "nbconvert_exporter": "python",
   "pygments_lexer": "ipython3",
   "version": "3.11.0"
  }
 },
 "nbformat": 4,
 "nbformat_minor": 5
}
