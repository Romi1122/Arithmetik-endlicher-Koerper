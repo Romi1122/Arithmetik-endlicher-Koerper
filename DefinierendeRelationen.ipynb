{
 "cells": [
  {
   "cell_type": "markdown",
   "id": "97d6203e",
   "metadata": {},
   "source": [
    "# Suchen und Prüfen von definierenden Relationen"
   ]
  },
  {
   "cell_type": "markdown",
   "id": "22e011c1",
   "metadata": {},
   "source": [
    "### Imports der benötigten Module"
   ]
  },
  {
   "cell_type": "code",
   "execution_count": 177,
   "id": "45fb50d4",
   "metadata": {},
   "outputs": [
    {
     "name": "stdout",
     "output_type": "stream",
     "text": [
      "importing notebook from Polynomdivision.ipynb\n",
      "importing notebook from FpRechner.ipynb\n"
     ]
    }
   ],
   "source": [
    "%run Module_Polynomdivision.ipynb"
   ]
  },
  {
   "cell_type": "code",
   "execution_count": 178,
   "id": "bb64f196",
   "metadata": {},
   "outputs": [],
   "source": [
    "import numpy as np\n",
    "import random\n",
    "from IPython.display import display, Math"
   ]
  },
  {
   "cell_type": "code",
   "execution_count": 179,
   "id": "691b58ce",
   "metadata": {},
   "outputs": [],
   "source": [
    "import Polynomdivision as polydiv\n",
    "import FpRechner as Fp"
   ]
  },
  {
   "cell_type": "markdown",
   "id": "66507e0e",
   "metadata": {},
   "source": [
    "### Hilfsfunktionen"
   ]
  },
  {
   "cell_type": "markdown",
   "id": "f93bd2ca",
   "metadata": {},
   "source": [
    "#### Alle Polynome"
   ]
  },
  {
   "cell_type": "markdown",
   "id": "3091fdf7",
   "metadata": {},
   "source": [
    "$all\\_relations(p,l)$ gibt alle Relationen $\\alpha^l=r_{l-1}\\alpha^{l-1}+r_{l-2}\\alpha^{l-2}+\\cdots+r_1\\alpha+r_0$ als Tupel ($r_{l-1}$,$r_{l-2}$,$\\cdots$,$r_1$,$r_0$) aus, die für den Erweiterungskörper $\\mathbb F_q$ mit $q=p^l$ als definierende Relation in Frage kommen.\n",
    "Hierbei sind die Relationen mit $r_0=0$ bereits unberücksichtigt, da deren Polynome Nullstellen haben. "
   ]
  },
  {
   "cell_type": "code",
   "execution_count": 232,
   "id": "1679dac3",
   "metadata": {},
   "outputs": [],
   "source": [
    "def all_relations(p,l):\n",
    "    menge = set()\n",
    "    for i in range(pow(p,l)):\n",
    "        if i%p !=0:\n",
    "            result=(i%p,)\n",
    "            for j in range (1,l):\n",
    "                result = ((i//pow(p,j)%p),)+result\n",
    "            menge.add(result)\n",
    "    return menge"
   ]
  },
  {
   "cell_type": "markdown",
   "id": "0d8651b7",
   "metadata": {},
   "source": [
    "$nullstellenfreie(p,l)$ gibt alle Relationen der Funktion $all\\_relations(p,l)$ zurück, deren Polynome keine Nullstelle haben."
   ]
  },
  {
   "cell_type": "code",
   "execution_count": 233,
   "id": "3eb6f18f",
   "metadata": {},
   "outputs": [],
   "source": [
    "def nullstellenfreie(p,l):\n",
    "    zerozeros=[]\n",
    "    allpol = all_relations(p,l)\n",
    "    \n",
    "    for element in allpol:\n",
    "        check=True\n",
    "        \n",
    "        for i in range(p):\n",
    "            test = pow(i,l)\n",
    "        \n",
    "            for j in range(l):\n",
    "                test = test - element[j]*pow(i,l-j-1)\n",
    "                            \n",
    "            if test%p == 0:\n",
    "                check = False\n",
    "                break;\n",
    "        \n",
    "        if check == True:\n",
    "            zerozeros.append(element)\n",
    "    \n",
    "    return zerozeros"
   ]
  },
  {
   "cell_type": "markdown",
   "id": "c6635ddc",
   "metadata": {},
   "source": [
    "$relation\\_to\\_polynom(rel,p)$ wandelt $\\alpha^l=r_{l-1}\\alpha^{l-1}+r_{l-2}\\alpha^{l-2}+\\cdots+r_1\\alpha+r_0$ in $X^l-r_{l-1}X^{l-1}-r_{l-2}X^{l-2}-\\cdots-r_1X-r_0$ \\\n",
    "Als Tupel $rel=$($r_{l-1}$,$r_{l-2}$,$\\cdots$,$r_1$,$r_0$) in ($1$,$-r_{l-1}$,$-r_{l-2}$,$\\cdots$,$-r_1$,$-r_0$) "
   ]
  },
  {
   "cell_type": "code",
   "execution_count": 225,
   "id": "5078ad67",
   "metadata": {},
   "outputs": [],
   "source": [
    "def relation_to_polynom(rel,p):\n",
    "    result=(1,)\n",
    "    for i in range(len(rel)):\n",
    "        result = result+((-rel[i])%p,)\n",
    "    return result"
   ]
  },
  {
   "cell_type": "markdown",
   "id": "cb8c32c5",
   "metadata": {},
   "source": [
    "$polynom\\_to\\_relation(pol,p)$ wandelt $X^l-r_{l-1}X^{l-1}-r_{l-2}X^{l-2}-\\cdots-r_1X-r_0$ in $\\alpha^l=r_{l-1}\\alpha^{l-1}+r_{l-2}\\alpha^{l-2}+\\cdots+r_1\\alpha+r_0$ \\\n",
    "Als Tupel $pol=$($1$,$-r_{l-1}$,$-r_{l-2}$,$\\cdots$,$-r_1$,$-r_0$) in ($r_{l-1}$,$r_{l-2}$,$\\cdots$,$r_1$,$r_0$) "
   ]
  },
  {
   "cell_type": "code",
   "execution_count": 234,
   "id": "f14aaea2",
   "metadata": {},
   "outputs": [],
   "source": [
    "def polynom_to_relation(pol,p):\n",
    "    result = ()\n",
    "    for i in range(1,len(pol)):\n",
    "        result = result+(-pol[i]%p,)\n",
    "    return result"
   ]
  },
  {
   "cell_type": "markdown",
   "id": "98fe32a6",
   "metadata": {},
   "source": [
    "$def\\_rel\\_find(p,l)$ gibt alle definierenden Relationen $\\alpha^l=r_{l-1}\\alpha^{l-1}+r_{l-2}\\alpha^{l-2}+\\cdots+r_1\\alpha+r_0$ für einen Körper $\\mathbb F_q$ mit $q=p^l$ als eine Liste von Tupeln   ($r_{l-1}$,$r_{l-2}$,$\\cdots$,$r_1$,$r_0$) aus.   "
   ]
  },
  {
   "cell_type": "code",
   "execution_count": 246,
   "id": "435280b2",
   "metadata": {},
   "outputs": [],
   "source": [
    "def def_rel_find(p,l):\n",
    "    nullstellenfrei=nullstellenfreie(p,l)\n",
    "    if (l==2 or l==3):\n",
    "        result = nullstellenfrei\n",
    "    else:\n",
    "        result=[]\n",
    "        menge =[]\n",
    "        for i in range(2,l//2+1):\n",
    "            menge = menge + def_rel_find(p,i)\n",
    "        for polynom in nullstellenfrei:\n",
    "            check=True\n",
    "            for element in menge:\n",
    "                ergebnis, rest = polydiv.poldiv(relation_to_polynom(polynom,p),relation_to_polynom(element,p),p)\n",
    "                if np.sum(rest)==0:\n",
    "                    check=False;\n",
    "                    break;\n",
    "            if check==True:\n",
    "                result.append(polynom)\n",
    "    result.sort()\n",
    "    return result"
   ]
  },
  {
   "cell_type": "markdown",
   "id": "41b5b979",
   "metadata": {},
   "source": [
    "$def\\_rel\\_check(rel,p)$ prüft, ob eine Relation als Tupel $rel$ = ($r_{l-1}$,$r_{l-2}$,$\\cdots$,$r_1$,$r_0$) eine definierende Relation für einen Erweiterungskörper von $\\mathbb F_p$ ist."
   ]
  },
  {
   "cell_type": "code",
   "execution_count": 228,
   "id": "137aa14c",
   "metadata": {},
   "outputs": [],
   "source": [
    "def def_rel_check(rel,p):\n",
    "    l = len(rel)\n",
    "    for i in range(p):\n",
    "        test = pow(i,l)\n",
    "        for j in range(l):\n",
    "                test = test - rel[j]*pow(i,l-j-1)\n",
    "        if test%p == 0:\n",
    "            return False\n",
    "    if l == 2 or l == 3:\n",
    "        return True\n",
    "    minpols = def_rel_find(p,l//2)\n",
    "    pol = relation_to_polynom(rel,p) \n",
    "    for element in minpols:\n",
    "        ergebnis, rest = polydiv.poldiv(pol,relation_to_polynom(element,p),p)\n",
    "        if np.sum(rest) == 0:\n",
    "            return False\n",
    "    return True\n",
    "    \n",
    "        "
   ]
  },
  {
   "cell_type": "markdown",
   "id": "e117abf6",
   "metadata": {},
   "source": [
    "$print\\_minpolynom(minpolynom)$ erhält ein Minimalpolynom als Tupel $minpolynom=$($1$,$-r_{l-1}$,$-r_{l-2}$,$\\cdots$,$-r_1$,$-r_0$) und stellt es in der Form $X^l-r_{l-1}X^{l-1}-r_{l-2}X^{l-2}-\\cdots-r_1X-r_0$ dar.  "
   ]
  },
  {
   "cell_type": "code",
   "execution_count": 267,
   "id": "ed223139",
   "metadata": {},
   "outputs": [],
   "source": [
    "def print_minpolynom(minpolynom):\n",
    "    l = len(minpolynom)\n",
    "    s = r'X^{'+str(l-1)+r'}+'\n",
    "    for i in range(1,l-2):\n",
    "        if minpolynom[i]>1:\n",
    "            s = s+(r''+str(minpolynom[i])+r'X^{'+str(l-i-1)+r'}+')\n",
    "        elif minpolynom[i]==1:\n",
    "            s = s+(r'X^{'+str(l-i-1)+r'}+')\n",
    "    if minpolynom[l-2]>1:\n",
    "        s=s+(r''+str(minpolynom[l-2])+r'X+')\n",
    "    elif minpolynom[l-2]==1:\n",
    "        s=s+(r'X+')\n",
    "    if minpolynom[l-1]>0:\n",
    "        s=s+(r''+str(minpolynom[l-1])+r'')\n",
    "    else:\n",
    "        s=s[:-1]\n",
    "    display(Math(s))"
   ]
  },
  {
   "cell_type": "markdown",
   "id": "9599e2b8",
   "metadata": {},
   "source": [
    "$print\\_def\\_rel(def\\_rel)$ erhält eine definierende Relation als Tupel $def\\_rel=$($r_{l-1}$,$r_{l-2}$,$\\cdots$,$r_1$,$r_0$) und stellt sie in der Form $\\alpha^l=r_{l-1}\\alpha^{l-1}+r_{l-2}\\alpha^{l-2}+\\cdots+r_1\\alpha+r_0$ dar."
   ]
  },
  {
   "cell_type": "code",
   "execution_count": 266,
   "id": "bb382c05",
   "metadata": {},
   "outputs": [],
   "source": [
    "def print_def_rel(def_rel):\n",
    "    l = len(def_rel)\n",
    "    s = r' \\alpha^{'+str(l)+r'}='\n",
    "    for i in range(l-2):\n",
    "        if def_rel[i]>1:\n",
    "            s = s+(r''+str(def_rel[i])+r' \\alpha^{'+str(l-i-1)+'}+')\n",
    "        elif def_rel[i]==1:\n",
    "            s = s+(r' \\alpha^{'+str(l-i-1)+r'}+')\n",
    "    if def_rel[l-2]>1:\n",
    "        s = s+(r''+str(def_rel[l-2])+r' \\alpha+')\n",
    "    elif def_rel[l-2]==1:\n",
    "        s = s+(r' \\alpha+')\n",
    "    if def_rel[l-1]>0:\n",
    "        s=s+(r''+str(def_rel[l-1])+r'')\n",
    "    else:\n",
    "        s=s[:-1]\n",
    "    display(Math(s))"
   ]
  },
  {
   "cell_type": "code",
   "execution_count": null,
   "id": "a3fae236",
   "metadata": {},
   "outputs": [],
   "source": []
  }
 ],
 "metadata": {
  "kernelspec": {
   "display_name": "Python 3 (ipykernel)",
   "language": "python",
   "name": "python3"
  },
  "language_info": {
   "codemirror_mode": {
    "name": "ipython",
    "version": 3
   },
   "file_extension": ".py",
   "mimetype": "text/x-python",
   "name": "python",
   "nbconvert_exporter": "python",
   "pygments_lexer": "ipython3",
   "version": "3.11.0"
  }
 },
 "nbformat": 4,
 "nbformat_minor": 5
}
