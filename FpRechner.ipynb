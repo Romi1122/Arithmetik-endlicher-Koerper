{
 "cells": [
  {
   "cell_type": "markdown",
   "id": "787a680f",
   "metadata": {},
   "source": [
    "# Grundrechenarten im Primkörper $\\mathbb{F}_p$"
   ]
  },
  {
   "cell_type": "markdown",
   "id": "89dc36cc",
   "metadata": {},
   "source": [
    "### Addition in $\\mathbb{F}_p$"
   ]
  },
  {
   "cell_type": "markdown",
   "id": "8a5a36e5",
   "metadata": {},
   "source": [
    "$summe(a,b,p) \\rightarrow (a+b)$ mod $p$"
   ]
  },
  {
   "cell_type": "code",
   "execution_count": 1,
   "id": "a8c3679d",
   "metadata": {},
   "outputs": [],
   "source": [
    "def summe(a,b,p):\n",
    "    return (a+b)%p"
   ]
  },
  {
   "cell_type": "markdown",
   "id": "4fa9956b",
   "metadata": {},
   "source": [
    "### Subtraktion in $\\mathbb{F}_p$"
   ]
  },
  {
   "cell_type": "markdown",
   "id": "a96183f0",
   "metadata": {},
   "source": [
    "$differenz(a,b,p) \\rightarrow (a-b)$ mod $p$"
   ]
  },
  {
   "cell_type": "code",
   "execution_count": 2,
   "id": "f13bbb8d",
   "metadata": {},
   "outputs": [],
   "source": [
    "def differenz(a,b,p):\n",
    "    return (a-b)%p"
   ]
  },
  {
   "cell_type": "markdown",
   "id": "4dcf94dc",
   "metadata": {},
   "source": [
    "### Multiplikation in $\\mathbb{F}_p$"
   ]
  },
  {
   "cell_type": "markdown",
   "id": "42ad67dc",
   "metadata": {},
   "source": [
    "$produkt(a,b,p) \\rightarrow (a\\cdot b)$ mod $p$"
   ]
  },
  {
   "cell_type": "code",
   "execution_count": 3,
   "id": "a46cce65",
   "metadata": {},
   "outputs": [],
   "source": [
    "def produkt(a,b,p):\n",
    "    return (a*b)%p"
   ]
  },
  {
   "cell_type": "markdown",
   "id": "d8bb7fc9",
   "metadata": {},
   "source": [
    "### Division in $\\mathbb{F}_p$"
   ]
  },
  {
   "cell_type": "markdown",
   "id": "dd16e367",
   "metadata": {},
   "source": [
    "#### Inverses Element"
   ]
  },
  {
   "cell_type": "markdown",
   "id": "08081449",
   "metadata": {},
   "source": [
    "$inverses(x,p)$ gibt das Inverse zu $x$ im Primkörper $F_p$ zurück "
   ]
  },
  {
   "cell_type": "code",
   "execution_count": 25,
   "id": "dee516ee",
   "metadata": {},
   "outputs": [],
   "source": [
    "def inverses(x,p):\n",
    "    if x==1:\n",
    "        return 1\n",
    "    \n",
    "    a0 = 1 \n",
    "    b0 = 0\n",
    "    a1 = 0\n",
    "    b1 = 1\n",
    "    r0 = p\n",
    "    r1 = x\n",
    "    \n",
    "    while(r1!=0):\n",
    "        q = r0 // r1\n",
    "        rtemp = r0\n",
    "        r0 = r1\n",
    "        r1 = rtemp % r1\n",
    "        atemp = a0\n",
    "        a0 = a1\n",
    "        a1 = atemp - q * a1\n",
    "        btemp = b0\n",
    "        b0 = b1\n",
    "        b1 = btemp - q * b1\n",
    "    \n",
    "    return b0%p\n",
    "        \n",
    "    "
   ]
  },
  {
   "cell_type": "markdown",
   "id": "2a067bd0",
   "metadata": {},
   "source": [
    "#### Division"
   ]
  },
  {
   "cell_type": "markdown",
   "id": "e5cb90b5",
   "metadata": {},
   "source": [
    "$divide(a,b,p)$ multipliziert $a$ mit dem Inversen von $b$ innerhalb $\\mathbb F_p$"
   ]
  },
  {
   "cell_type": "code",
   "execution_count": 37,
   "id": "f5a6f219",
   "metadata": {},
   "outputs": [],
   "source": [
    "def divide(a,b,p):\n",
    "    return (a*inverses(b,p))%p"
   ]
  },
  {
   "cell_type": "markdown",
   "id": "2d20a59a",
   "metadata": {},
   "source": [
    "### Potenzieren in $\\mathbb{F}_p$"
   ]
  },
  {
   "cell_type": "markdown",
   "id": "27a45182",
   "metadata": {},
   "source": [
    "$potentz(a,l,p) \\rightarrow a^l$ mod $p$"
   ]
  },
  {
   "cell_type": "code",
   "execution_count": 6,
   "id": "d7243dc9",
   "metadata": {},
   "outputs": [],
   "source": [
    "def potenz(a,l,p):\n",
    "    if l==0:\n",
    "        return 1\n",
    "    elif l==1:\n",
    "        return a\n",
    "    elif l%2==0:\n",
    "        return (potenz(a,l//2,p)*potenz(a,l//2,p))%p\n",
    "    else:\n",
    "        return (potenz(a,l//2,p)*potenz(a,l//2+1,p))%p\n",
    "    "
   ]
  }
 ],
 "metadata": {
  "kernelspec": {
   "display_name": "Python 3 (ipykernel)",
   "language": "python",
   "name": "python3"
  },
  "language_info": {
   "codemirror_mode": {
    "name": "ipython",
    "version": 3
   },
   "file_extension": ".py",
   "mimetype": "text/x-python",
   "name": "python",
   "nbconvert_exporter": "python",
   "pygments_lexer": "ipython3",
   "version": "3.11.0"
  }
 },
 "nbformat": 4,
 "nbformat_minor": 5
}
