{
 "cells": [
  {
   "cell_type": "markdown",
   "id": "d942bbd6",
   "metadata": {},
   "source": [
    "# Grundrechenarten im Erweiterungskörper $\\mathbb{F}_q$"
   ]
  },
  {
   "cell_type": "markdown",
   "id": "59dc915e",
   "metadata": {},
   "source": [
    "### Imports der benötigten Module"
   ]
  },
  {
   "cell_type": "code",
   "execution_count": 1,
   "id": "4c6af11f",
   "metadata": {},
   "outputs": [
    {
     "name": "stdout",
     "output_type": "stream",
     "text": [
      "importing notebook from DefinierendeRelationen.ipynb\n",
      "importing notebook from Polynomdivision.ipynb\n",
      "importing notebook from FpRechner.ipynb\n"
     ]
    }
   ],
   "source": [
    "%run Module_DefinierendeRelationen.ipynb"
   ]
  },
  {
   "cell_type": "code",
   "execution_count": 118,
   "id": "f8b56830",
   "metadata": {},
   "outputs": [],
   "source": [
    "import numpy as np\n",
    "from IPython.display import display, Math"
   ]
  },
  {
   "cell_type": "code",
   "execution_count": 4,
   "id": "9b3f0a71",
   "metadata": {},
   "outputs": [],
   "source": [
    "import Polynomdivision as polydiv\n",
    "import FpRechner as Fp\n",
    "import DefinierendeRelationen as defrel"
   ]
  },
  {
   "cell_type": "markdown",
   "id": "5dbb9129",
   "metadata": {},
   "source": [
    "### Hilfsfunktionen"
   ]
  },
  {
   "cell_type": "markdown",
   "id": "620c853d",
   "metadata": {},
   "source": [
    "$polyproduct\\_number(pol1,a,p)$ nimmt ein Polynom $pol$ (oder Element eines Erweiterungskörpers $mathbb F_q$, denn universell einsetzbar) in Tupelschreibweise und multipliziert es mit einer Zahl $a \\in \\mathbb F_q$ "
   ]
  },
  {
   "cell_type": "code",
   "execution_count": 111,
   "id": "3ae83c03",
   "metadata": {},
   "outputs": [],
   "source": [
    "def polyproduct_number(pol,a,p):\n",
    "    return tuple((np.array(pol)*a)%p)"
   ]
  },
  {
   "cell_type": "markdown",
   "id": "0006aeda",
   "metadata": {},
   "source": [
    "$polyproduct\\_poly(pol1,pol2,p)$ nimmt ein Polynom $pol1$ und multipliziert es mit einem anderen Polynom $pol2$, beide in Tupelschreibweise.  "
   ]
  },
  {
   "cell_type": "code",
   "execution_count": 34,
   "id": "4a871c07",
   "metadata": {},
   "outputs": [],
   "source": [
    "def polyproduct_poly(pol1,pol2,p):\n",
    "    l1 = len(pol1)\n",
    "    l2 = len(pol2)\n",
    "    lges = l1+l2-1\n",
    "    result = np.zeros(lges, dtype=int)\n",
    "    pol1=np.array(pol1)\n",
    "    pol2=np.array(pol2)\n",
    "    for i in range(l2):\n",
    "        temp = polydiv.shiftleft(pol1,l2-i-1)\n",
    "        temp = polyproduct_number(temp,pol2[i],p) \n",
    "        temp = polydiv.fill(temp,lges-len(temp))\n",
    "        result = (result+temp)%p\n",
    "    return tuple(result)\n",
    "    "
   ]
  },
  {
   "cell_type": "code",
   "execution_count": 41,
   "id": "646a1ae4",
   "metadata": {},
   "outputs": [
    {
     "data": {
      "text/plain": [
       "(2, 1, 0, 1, 0)"
      ]
     },
     "execution_count": 41,
     "metadata": {},
     "output_type": "execute_result"
    }
   ],
   "source": [
    "polyproduct_poly((1,1,0),(2,2,1),3)"
   ]
  },
  {
   "cell_type": "markdown",
   "id": "3397ec3e",
   "metadata": {},
   "source": [
    "### Addition in $\\mathbb{F}_q$ "
   ]
  },
  {
   "cell_type": "markdown",
   "id": "6e0702cd",
   "metadata": {},
   "source": [
    "$summe(a,b,p)$ erhält zwei Elemente $a$ und $b$ eines Erweiterungskörpers $\\mathbb F_q$ mit $q=p^l$ und gibt deren Summe zurück. Hierbei geben wir der Funktion Element $a$ definiert als $a_{l-1}\\cdot \\alpha^{l-1}+a_{l-2}\\cdot \\alpha^{l-2}+\\cdots+a_2\\cdot \\alpha^2+a_1\\cdot \\alpha+ a0$ mit $a_0,...,a_{l-1} \\in \\mathbb F_p$ in der Tupelschreibweise $a=$($a_{l-1}$,$a_{l-2}$,$\\cdots$,$a_2$,$a_1$,$a_0$) mit und Element $b$ ebenso. Hierbei muss darauf geachtet werden dass auch alle Nullen in das Tupel geschrieben werden, und beide Tupel die gleiche länge haben müssen, da in den Funktionen über die Länge der Tupel der Grad des Körpers ermittelt wird. "
   ]
  },
  {
   "cell_type": "code",
   "execution_count": 15,
   "id": "0eb95793",
   "metadata": {},
   "outputs": [],
   "source": [
    "def summe(a,b,p):\n",
    "    return tuple((np.array(a)+np.array(b))%p)"
   ]
  },
  {
   "cell_type": "markdown",
   "id": "6e47481e",
   "metadata": {},
   "source": [
    "### Subtraktion in $\\mathbb{F}_q$ "
   ]
  },
  {
   "cell_type": "markdown",
   "id": "8723bd2a",
   "metadata": {},
   "source": [
    "$differenz(a,b,p)$ erhält die beiden Elemente $a$ und $b$ ebenfalls in der Tupelschreibweise und rechnet dann $a-b$, wobei $a,b \\in \\mathbb F_q$ mit $q=p^l$"
   ]
  },
  {
   "cell_type": "code",
   "execution_count": 17,
   "id": "28aef62f",
   "metadata": {},
   "outputs": [],
   "source": [
    "def differenz(a,b,p):\n",
    "    return tuple((np.array(a)-np.array(b))%p)"
   ]
  },
  {
   "cell_type": "markdown",
   "id": "9e1b55e0",
   "metadata": {},
   "source": [
    "### Multiplikation in $\\mathbb{F}_q$ "
   ]
  },
  {
   "cell_type": "markdown",
   "id": "f6cd5f45",
   "metadata": {},
   "source": [
    "$produkt(a,b,def\\_rel,p)$ berechnet das Produkt zweier Elemente $a,b \\in \\mathbb F_q$, welche in Tupelschreibweise mitgegeben werden.\n",
    "    Zusätzlich benötigt die Funktion noch eine definierende Relation in Tupelschreibweise $def\\_rel=(r_{l-1},r_{l-2},...,r_2,r_1,r_0)$, welche den Körper $\\mathbb F_q$ mit $q=p^l$ beschreibt."
   ]
  },
  {
   "cell_type": "code",
   "execution_count": 108,
   "id": "02c38df1",
   "metadata": {},
   "outputs": [],
   "source": [
    "def produkt(a,b,def_rel,p):\n",
    "    prod = polyproduct_poly(a,b,p)\n",
    "    l = len(def_rel)\n",
    "    if len(prod) == l:\n",
    "        return prod\n",
    "    ergebnis = np.array(prod[-l:])\n",
    "    überhang = np.array(prod[:-l])\n",
    "    while len(prod)>l:\n",
    "        prod = polyproduct_poly(überhang,def_rel,p)\n",
    "        ergebnis = (ergebnis + np.array(prod[-l:]))%p\n",
    "        überhang = (np.array(prod[:-l]))%p\n",
    "    return tuple(ergebnis)"
   ]
  },
  {
   "cell_type": "markdown",
   "id": "7d3ed575",
   "metadata": {},
   "source": [
    "### Division in $\\mathbb{F}_q$"
   ]
  },
  {
   "cell_type": "markdown",
   "id": "b9e58835",
   "metadata": {},
   "source": [
    "#### Inverses Element"
   ]
  },
  {
   "cell_type": "markdown",
   "id": "681bd5d3",
   "metadata": {},
   "source": [
    "$inverses(x,def_rel,p)$ erhält ein Element $x \\in \\mathbb F_q$ mit $q=p^l$ in Tupelschreibweise und eine definierende Relation $def_rel$ welche $\\mathbb F_q$ definiert in Tupelschreibweise und gibt das Inverse Element zurück. "
   ]
  },
  {
   "cell_type": "code",
   "execution_count": 61,
   "id": "bf5d12bd",
   "metadata": {},
   "outputs": [],
   "source": [
    "def inverses(x,def_rel,p):\n",
    "    if x==(1,):\n",
    "        return (1,)\n",
    "    \n",
    "    a0 = np.array((1,)) \n",
    "    b0 = np.array((0,))\n",
    "    a1 = np.array((0,))\n",
    "    b1 = np.array((1,))    \n",
    "    r0 = np.array(defrel.relation_to_polynom(def_rel,p))\n",
    "    r1 = np.array(x)\n",
    "    \n",
    "    while(np.sum(r1)!=0):\n",
    "        q = polydiv.poldiv(r0,r1,p)[0]\n",
    "        rtemp = r0\n",
    "        r0 = r1\n",
    "        r1 = polydiv.poldiv(rtemp, r1,p)[1]\n",
    "        atemp = a0\n",
    "        a0 = a1\n",
    "        l = len(atemp)-len(polyproduct_poly(q,a1,p))\n",
    "        if l<0:\n",
    "            a1 = (polydiv.fill(atemp,(-1)*l) - polyproduct_poly(q,a1,p))%p\n",
    "        elif l==0: \n",
    "            a1 = (atemp - polyproduct_poly(q,a1,p))%p\n",
    "        else:\n",
    "            a1 = (atemp - polydiv.fill(polyproduct_poly(q,a1,p)))%p\n",
    "        btemp = b0\n",
    "        b0 = b1\n",
    "        l = len(btemp)-len(polyproduct_poly(q,b1,p))\n",
    "        if l<0:\n",
    "            b1 = (polydiv.fill(btemp,(-1)*l) - polyproduct_poly(q,b1,p))%p\n",
    "        elif l==0: \n",
    "            b1 = (btemp - polyproduct_poly(q,a1,p))%p\n",
    "        else:\n",
    "            b1 = (btemp - polydiv.fill(polyproduct_poly(q,b1,p)))%p\n",
    "    \n",
    "    return polyproduct_number(b0,Fp.inverses(r0[-1],p),p)"
   ]
  },
  {
   "cell_type": "markdown",
   "id": "49fcaa04",
   "metadata": {},
   "source": [
    "#### Division"
   ]
  },
  {
   "cell_type": "markdown",
   "id": "f3718fc4",
   "metadata": {},
   "source": [
    "$divide(a,b,def\\_rel,p)$ berechnet $\\frac{a}{b}$ innerhalb des Körpers $\\mathbb F_q$ mit $q=p^l$ welcher über $def\\_rel$ definiert wird."
   ]
  },
  {
   "cell_type": "code",
   "execution_count": 112,
   "id": "a16d4143",
   "metadata": {},
   "outputs": [],
   "source": [
    "def divide(a,b,def_rel,p):\n",
    "    inv = inverses(b,def_rel,p)\n",
    "    return produkt(a,inv,def_rel,p)"
   ]
  },
  {
   "cell_type": "markdown",
   "id": "c1fcec88",
   "metadata": {},
   "source": [
    "### Print Funktion"
   ]
  },
  {
   "cell_type": "markdown",
   "id": "1ac8aeca",
   "metadata": {},
   "source": [
    "$print\\_element(element)$ erhält ein Element aus $\\mathbb F_q$ in Tupelschreibweise und gibt es in der mathematischen Schreibweise aus. "
   ]
  },
  {
   "cell_type": "code",
   "execution_count": 122,
   "id": "2e7f0355",
   "metadata": {},
   "outputs": [],
   "source": [
    "def print_element(element):\n",
    "    l = len(element)\n",
    "    s = r''\n",
    "    for i in range(l-2):\n",
    "        if element[i]>1:\n",
    "            s = s+(r''+str(element[i])+r' \\alpha^{'+str(l-i-1)+'}+')\n",
    "        elif element[i]==1:\n",
    "            s = s+(r' \\alpha^{'+str(l-i-1)+r'}+')\n",
    "    if element[l-2]>1:\n",
    "        s = s+(r''+str(element[l-2])+r' \\alpha+')\n",
    "    elif element[l-2]==1:\n",
    "        s = s+(r' \\alpha+')\n",
    "    if element[l-1]>0:\n",
    "        s=s+(r''+str(element[l-1])+r'')\n",
    "    else:\n",
    "        s=s[:-1]\n",
    "    display(Math(s))"
   ]
  }
 ],
 "metadata": {
  "kernelspec": {
   "display_name": "Python 3 (ipykernel)",
   "language": "python",
   "name": "python3"
  },
  "language_info": {
   "codemirror_mode": {
    "name": "ipython",
    "version": 3
   },
   "file_extension": ".py",
   "mimetype": "text/x-python",
   "name": "python",
   "nbconvert_exporter": "python",
   "pygments_lexer": "ipython3",
   "version": "3.11.0"
  }
 },
 "nbformat": 4,
 "nbformat_minor": 5
}
