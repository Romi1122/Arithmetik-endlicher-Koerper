{
 "cells": [
  {
   "cell_type": "markdown",
   "id": "65df8109",
   "metadata": {},
   "source": [
    "# Rechner für Endliche Körper"
   ]
  },
  {
   "cell_type": "code",
   "execution_count": 2,
   "id": "f53bade4",
   "metadata": {},
   "outputs": [
    {
     "name": "stdout",
     "output_type": "stream",
     "text": [
      "importing notebook from FqRechner.ipynb\n",
      "importing notebook from DefinierendeRelationen.ipynb\n",
      "importing notebook from Polynomdivision.ipynb\n",
      "importing notebook from FpRechner.ipynb\n"
     ]
    }
   ],
   "source": [
    "%run Module_FqRechner.ipynb"
   ]
  },
  {
   "cell_type": "code",
   "execution_count": 3,
   "id": "67535c83",
   "metadata": {},
   "outputs": [],
   "source": [
    "import FpRechner as Fp\n",
    "import Polynomdivision as polydiv\n",
    "import DefinierendeRelationen as defrel\n",
    "import FqRechner as Fq"
   ]
  },
  {
   "cell_type": "markdown",
   "id": "8c6344d0",
   "metadata": {},
   "source": [
    "#### Hier kann der Nutzer seine Berechnungen ausführen und dabei die Funktionen aus den anderen Notebooks anwenden.\n",
    "#### Das Beispiel-Notebook soll hierzu als Hilfe dienen"
   ]
  },
  {
   "cell_type": "code",
   "execution_count": 1,
   "id": "1d949a30",
   "metadata": {},
   "outputs": [],
   "source": [
    "### Hier die Funktionen aufrufen"
   ]
  }
 ],
 "metadata": {
  "kernelspec": {
   "display_name": "Python 3 (ipykernel)",
   "language": "python",
   "name": "python3"
  },
  "language_info": {
   "codemirror_mode": {
    "name": "ipython",
    "version": 3
   },
   "file_extension": ".py",
   "mimetype": "text/x-python",
   "name": "python",
   "nbconvert_exporter": "python",
   "pygments_lexer": "ipython3",
   "version": "3.11.0"
  }
 },
 "nbformat": 4,
 "nbformat_minor": 5
}
