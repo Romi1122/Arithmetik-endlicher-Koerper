{
 "cells": [
  {
   "cell_type": "markdown",
   "id": "cedd966f",
   "metadata": {},
   "source": [
    "# Anwendungsbeispiele "
   ]
  },
  {
   "cell_type": "code",
   "execution_count": 1,
   "id": "708c266d",
   "metadata": {},
   "outputs": [
    {
     "name": "stdout",
     "output_type": "stream",
     "text": [
      "importing notebook from FqRechner.ipynb\n",
      "importing notebook from DefinierendeRelationen.ipynb\n",
      "importing notebook from Polynomdivision.ipynb\n",
      "importing notebook from FpRechner.ipynb\n"
     ]
    }
   ],
   "source": [
    "%run Module_FqRechner.ipynb"
   ]
  },
  {
   "cell_type": "code",
   "execution_count": 2,
   "id": "ef8b95f5",
   "metadata": {},
   "outputs": [],
   "source": [
    "import FpRechner as Fp\n",
    "import Polynomdivision as polydiv\n",
    "import DefinierendeRelationen as defrel\n",
    "import FqRechner as Fq"
   ]
  },
  {
   "cell_type": "markdown",
   "id": "001213bf",
   "metadata": {},
   "source": [
    "### Beispiele FpRechner"
   ]
  },
  {
   "cell_type": "markdown",
   "id": "20094786",
   "metadata": {},
   "source": [
    "$(27+48) \\in \\mathbb F_{71}$"
   ]
  },
  {
   "cell_type": "code",
   "execution_count": 3,
   "id": "4b5c28df",
   "metadata": {},
   "outputs": [
    {
     "data": {
      "text/plain": [
       "4"
      ]
     },
     "execution_count": 3,
     "metadata": {},
     "output_type": "execute_result"
    }
   ],
   "source": [
    "Fp.summe(27,48,71)"
   ]
  },
  {
   "cell_type": "markdown",
   "id": "6e75f1c3",
   "metadata": {},
   "source": [
    "$(37-58)\\in \\mathbb F_{71}$ "
   ]
  },
  {
   "cell_type": "code",
   "execution_count": 4,
   "id": "ecebb33e",
   "metadata": {},
   "outputs": [
    {
     "data": {
      "text/plain": [
       "50"
      ]
     },
     "execution_count": 4,
     "metadata": {},
     "output_type": "execute_result"
    }
   ],
   "source": [
    "Fp.differenz(37,58,71)"
   ]
  },
  {
   "cell_type": "markdown",
   "id": "b351ddaf",
   "metadata": {},
   "source": [
    "$3 \\cdot 4\\in \\mathbb F_5$"
   ]
  },
  {
   "cell_type": "code",
   "execution_count": 5,
   "id": "281651a5",
   "metadata": {},
   "outputs": [
    {
     "data": {
      "text/plain": [
       "2"
      ]
     },
     "execution_count": 5,
     "metadata": {},
     "output_type": "execute_result"
    }
   ],
   "source": [
    "Fp.produkt(3,4,5)"
   ]
  },
  {
   "cell_type": "markdown",
   "id": "4ad9c854",
   "metadata": {},
   "source": [
    "$\\frac{1}{5}\\in \\mathbb F_7$"
   ]
  },
  {
   "cell_type": "code",
   "execution_count": 6,
   "id": "83ab72ce",
   "metadata": {},
   "outputs": [
    {
     "data": {
      "text/plain": [
       "3"
      ]
     },
     "execution_count": 6,
     "metadata": {},
     "output_type": "execute_result"
    }
   ],
   "source": [
    "Fp.inverses(5,7)"
   ]
  },
  {
   "cell_type": "code",
   "execution_count": 7,
   "id": "d032a7b6",
   "metadata": {},
   "outputs": [
    {
     "data": {
      "text/plain": [
       "3"
      ]
     },
     "execution_count": 7,
     "metadata": {},
     "output_type": "execute_result"
    }
   ],
   "source": [
    "Fp.divide(1,5,7)"
   ]
  },
  {
   "cell_type": "markdown",
   "id": "e699912c",
   "metadata": {},
   "source": [
    "### Beispiele Polynomdivision"
   ]
  },
  {
   "cell_type": "markdown",
   "id": "933eaa31",
   "metadata": {},
   "source": [
    "$(X^3+2X^2+5X):(X^2+2X+2)$, Koeffizienten $\\in \\mathbb F_7$"
   ]
  },
  {
   "cell_type": "code",
   "execution_count": 8,
   "id": "97d5aab5",
   "metadata": {},
   "outputs": [],
   "source": [
    "result, rest = polydiv.poldiv((1,2,5,0),(1,2,3),7)"
   ]
  },
  {
   "cell_type": "code",
   "execution_count": 9,
   "id": "b8e8cd69",
   "metadata": {},
   "outputs": [
    {
     "data": {
      "text/plain": [
       "((1, 0), (0, 0, 2, 0))"
      ]
     },
     "execution_count": 9,
     "metadata": {},
     "output_type": "execute_result"
    }
   ],
   "source": [
    "result, rest"
   ]
  },
  {
   "cell_type": "markdown",
   "id": "5212c09c",
   "metadata": {},
   "source": [
    "$(X^3+2X^2+5X):(X^2+2X+2)=X$ Rest $2X+4$"
   ]
  },
  {
   "cell_type": "markdown",
   "id": "8b357a34",
   "metadata": {},
   "source": [
    "### Beispiele finden von Definierenden Relationen"
   ]
  },
  {
   "cell_type": "markdown",
   "id": "f0b5245c",
   "metadata": {},
   "source": [
    "#### Alle definierenden Relationen von $\\mathbb F_{243}$ mit $243=3^5$ "
   ]
  },
  {
   "cell_type": "code",
   "execution_count": 10,
   "id": "8633a117",
   "metadata": {},
   "outputs": [
    {
     "name": "stdout",
     "output_type": "stream",
     "text": [
      "CPU times: total: 31.2 ms\n",
      "Wall time: 20 ms\n"
     ]
    }
   ],
   "source": [
    "%%time\n",
    "menge = defrel.def_rel_find(3,5)"
   ]
  },
  {
   "cell_type": "code",
   "execution_count": 11,
   "id": "1a58968d",
   "metadata": {
    "scrolled": true
   },
   "outputs": [
    {
     "data": {
      "text/plain": [
       "48"
      ]
     },
     "execution_count": 11,
     "metadata": {},
     "output_type": "execute_result"
    }
   ],
   "source": [
    "len(menge)"
   ]
  },
  {
   "cell_type": "code",
   "execution_count": 12,
   "id": "b61db7cd",
   "metadata": {
    "scrolled": true
   },
   "outputs": [
    {
     "data": {
      "text/latex": [
       "$\\displaystyle  \\alpha^{5}= \\alpha+1$"
      ],
      "text/plain": [
       "<IPython.core.display.Math object>"
      ]
     },
     "metadata": {},
     "output_type": "display_data"
    },
    {
     "data": {
      "text/latex": [
       "$\\displaystyle  \\alpha^{5}= \\alpha+2$"
      ],
      "text/plain": [
       "<IPython.core.display.Math object>"
      ]
     },
     "metadata": {},
     "output_type": "display_data"
    },
    {
     "data": {
      "text/latex": [
       "$\\displaystyle  \\alpha^{5}= \\alpha^{2}+2 \\alpha+2$"
      ],
      "text/plain": [
       "<IPython.core.display.Math object>"
      ]
     },
     "metadata": {},
     "output_type": "display_data"
    },
    {
     "data": {
      "text/latex": [
       "$\\displaystyle  \\alpha^{5}=2 \\alpha^{2}+2 \\alpha+1$"
      ],
      "text/plain": [
       "<IPython.core.display.Math object>"
      ]
     },
     "metadata": {},
     "output_type": "display_data"
    },
    {
     "data": {
      "text/latex": [
       "$\\displaystyle  \\alpha^{5}= \\alpha^{3}+ \\alpha^{2}+1$"
      ],
      "text/plain": [
       "<IPython.core.display.Math object>"
      ]
     },
     "metadata": {},
     "output_type": "display_data"
    },
    {
     "data": {
      "text/latex": [
       "$\\displaystyle  \\alpha^{5}= \\alpha^{3}+ \\alpha^{2}+ \\alpha+2$"
      ],
      "text/plain": [
       "<IPython.core.display.Math object>"
      ]
     },
     "metadata": {},
     "output_type": "display_data"
    },
    {
     "data": {
      "text/latex": [
       "$\\displaystyle  \\alpha^{5}= \\alpha^{3}+ \\alpha^{2}+2 \\alpha+2$"
      ],
      "text/plain": [
       "<IPython.core.display.Math object>"
      ]
     },
     "metadata": {},
     "output_type": "display_data"
    },
    {
     "data": {
      "text/latex": [
       "$\\displaystyle  \\alpha^{5}= \\alpha^{3}+2 \\alpha^{2}+2$"
      ],
      "text/plain": [
       "<IPython.core.display.Math object>"
      ]
     },
     "metadata": {},
     "output_type": "display_data"
    },
    {
     "data": {
      "text/latex": [
       "$\\displaystyle  \\alpha^{5}= \\alpha^{3}+2 \\alpha^{2}+ \\alpha+1$"
      ],
      "text/plain": [
       "<IPython.core.display.Math object>"
      ]
     },
     "metadata": {},
     "output_type": "display_data"
    },
    {
     "data": {
      "text/latex": [
       "$\\displaystyle  \\alpha^{5}= \\alpha^{3}+2 \\alpha^{2}+2 \\alpha+1$"
      ],
      "text/plain": [
       "<IPython.core.display.Math object>"
      ]
     },
     "metadata": {},
     "output_type": "display_data"
    },
    {
     "data": {
      "text/latex": [
       "$\\displaystyle  \\alpha^{5}=2 \\alpha^{3}+2 \\alpha+1$"
      ],
      "text/plain": [
       "<IPython.core.display.Math object>"
      ]
     },
     "metadata": {},
     "output_type": "display_data"
    },
    {
     "data": {
      "text/latex": [
       "$\\displaystyle  \\alpha^{5}=2 \\alpha^{3}+2 \\alpha+2$"
      ],
      "text/plain": [
       "<IPython.core.display.Math object>"
      ]
     },
     "metadata": {},
     "output_type": "display_data"
    },
    {
     "data": {
      "text/latex": [
       "$\\displaystyle  \\alpha^{5}=2 \\alpha^{3}+ \\alpha^{2}+2$"
      ],
      "text/plain": [
       "<IPython.core.display.Math object>"
      ]
     },
     "metadata": {},
     "output_type": "display_data"
    },
    {
     "data": {
      "text/latex": [
       "$\\displaystyle  \\alpha^{5}=2 \\alpha^{3}+ \\alpha^{2}+ \\alpha+2$"
      ],
      "text/plain": [
       "<IPython.core.display.Math object>"
      ]
     },
     "metadata": {},
     "output_type": "display_data"
    },
    {
     "data": {
      "text/latex": [
       "$\\displaystyle  \\alpha^{5}=2 \\alpha^{3}+2 \\alpha^{2}+1$"
      ],
      "text/plain": [
       "<IPython.core.display.Math object>"
      ]
     },
     "metadata": {},
     "output_type": "display_data"
    },
    {
     "data": {
      "text/latex": [
       "$\\displaystyle  \\alpha^{5}=2 \\alpha^{3}+2 \\alpha^{2}+ \\alpha+1$"
      ],
      "text/plain": [
       "<IPython.core.display.Math object>"
      ]
     },
     "metadata": {},
     "output_type": "display_data"
    },
    {
     "data": {
      "text/latex": [
       "$\\displaystyle  \\alpha^{5}= \\alpha^{4}+2$"
      ],
      "text/plain": [
       "<IPython.core.display.Math object>"
      ]
     },
     "metadata": {},
     "output_type": "display_data"
    },
    {
     "data": {
      "text/latex": [
       "$\\displaystyle  \\alpha^{5}= \\alpha^{4}+ \\alpha+1$"
      ],
      "text/plain": [
       "<IPython.core.display.Math object>"
      ]
     },
     "metadata": {},
     "output_type": "display_data"
    },
    {
     "data": {
      "text/latex": [
       "$\\displaystyle  \\alpha^{5}= \\alpha^{4}+2 \\alpha+2$"
      ],
      "text/plain": [
       "<IPython.core.display.Math object>"
      ]
     },
     "metadata": {},
     "output_type": "display_data"
    },
    {
     "data": {
      "text/latex": [
       "$\\displaystyle  \\alpha^{5}= \\alpha^{4}+ \\alpha^{2}+1$"
      ],
      "text/plain": [
       "<IPython.core.display.Math object>"
      ]
     },
     "metadata": {},
     "output_type": "display_data"
    },
    {
     "data": {
      "text/latex": [
       "$\\displaystyle  \\alpha^{5}= \\alpha^{4}+ \\alpha^{2}+ \\alpha+2$"
      ],
      "text/plain": [
       "<IPython.core.display.Math object>"
      ]
     },
     "metadata": {},
     "output_type": "display_data"
    },
    {
     "data": {
      "text/latex": [
       "$\\displaystyle  \\alpha^{5}= \\alpha^{4}+ \\alpha^{2}+2 \\alpha+1$"
      ],
      "text/plain": [
       "<IPython.core.display.Math object>"
      ]
     },
     "metadata": {},
     "output_type": "display_data"
    },
    {
     "data": {
      "text/latex": [
       "$\\displaystyle  \\alpha^{5}= \\alpha^{4}+ \\alpha^{3}+1$"
      ],
      "text/plain": [
       "<IPython.core.display.Math object>"
      ]
     },
     "metadata": {},
     "output_type": "display_data"
    },
    {
     "data": {
      "text/latex": [
       "$\\displaystyle  \\alpha^{5}= \\alpha^{4}+ \\alpha^{3}+ \\alpha+2$"
      ],
      "text/plain": [
       "<IPython.core.display.Math object>"
      ]
     },
     "metadata": {},
     "output_type": "display_data"
    },
    {
     "data": {
      "text/latex": [
       "$\\displaystyle  \\alpha^{5}= \\alpha^{4}+ \\alpha^{3}+ \\alpha^{2}+2$"
      ],
      "text/plain": [
       "<IPython.core.display.Math object>"
      ]
     },
     "metadata": {},
     "output_type": "display_data"
    },
    {
     "data": {
      "text/latex": [
       "$\\displaystyle  \\alpha^{5}= \\alpha^{4}+ \\alpha^{3}+ \\alpha^{2}+2 \\alpha+1$"
      ],
      "text/plain": [
       "<IPython.core.display.Math object>"
      ]
     },
     "metadata": {},
     "output_type": "display_data"
    },
    {
     "data": {
      "text/latex": [
       "$\\displaystyle  \\alpha^{5}= \\alpha^{4}+ \\alpha^{3}+2 \\alpha^{2}+1$"
      ],
      "text/plain": [
       "<IPython.core.display.Math object>"
      ]
     },
     "metadata": {},
     "output_type": "display_data"
    },
    {
     "data": {
      "text/latex": [
       "$\\displaystyle  \\alpha^{5}= \\alpha^{4}+ \\alpha^{3}+2 \\alpha^{2}+2$"
      ],
      "text/plain": [
       "<IPython.core.display.Math object>"
      ]
     },
     "metadata": {},
     "output_type": "display_data"
    },
    {
     "data": {
      "text/latex": [
       "$\\displaystyle  \\alpha^{5}= \\alpha^{4}+2 \\alpha^{3}+2 \\alpha+1$"
      ],
      "text/plain": [
       "<IPython.core.display.Math object>"
      ]
     },
     "metadata": {},
     "output_type": "display_data"
    },
    {
     "data": {
      "text/latex": [
       "$\\displaystyle  \\alpha^{5}= \\alpha^{4}+2 \\alpha^{3}+ \\alpha^{2}+ \\alpha+1$"
      ],
      "text/plain": [
       "<IPython.core.display.Math object>"
      ]
     },
     "metadata": {},
     "output_type": "display_data"
    },
    {
     "data": {
      "text/latex": [
       "$\\displaystyle  \\alpha^{5}= \\alpha^{4}+2 \\alpha^{3}+2 \\alpha^{2}+2 \\alpha+1$"
      ],
      "text/plain": [
       "<IPython.core.display.Math object>"
      ]
     },
     "metadata": {},
     "output_type": "display_data"
    },
    {
     "data": {
      "text/latex": [
       "$\\displaystyle  \\alpha^{5}= \\alpha^{4}+2 \\alpha^{3}+2 \\alpha^{2}+2 \\alpha+2$"
      ],
      "text/plain": [
       "<IPython.core.display.Math object>"
      ]
     },
     "metadata": {},
     "output_type": "display_data"
    },
    {
     "data": {
      "text/latex": [
       "$\\displaystyle  \\alpha^{5}=2 \\alpha^{4}+1$"
      ],
      "text/plain": [
       "<IPython.core.display.Math object>"
      ]
     },
     "metadata": {},
     "output_type": "display_data"
    },
    {
     "data": {
      "text/latex": [
       "$\\displaystyle  \\alpha^{5}=2 \\alpha^{4}+ \\alpha+2$"
      ],
      "text/plain": [
       "<IPython.core.display.Math object>"
      ]
     },
     "metadata": {},
     "output_type": "display_data"
    },
    {
     "data": {
      "text/latex": [
       "$\\displaystyle  \\alpha^{5}=2 \\alpha^{4}+2 \\alpha+1$"
      ],
      "text/plain": [
       "<IPython.core.display.Math object>"
      ]
     },
     "metadata": {},
     "output_type": "display_data"
    },
    {
     "data": {
      "text/latex": [
       "$\\displaystyle  \\alpha^{5}=2 \\alpha^{4}+2 \\alpha^{2}+2$"
      ],
      "text/plain": [
       "<IPython.core.display.Math object>"
      ]
     },
     "metadata": {},
     "output_type": "display_data"
    },
    {
     "data": {
      "text/latex": [
       "$\\displaystyle  \\alpha^{5}=2 \\alpha^{4}+2 \\alpha^{2}+ \\alpha+1$"
      ],
      "text/plain": [
       "<IPython.core.display.Math object>"
      ]
     },
     "metadata": {},
     "output_type": "display_data"
    },
    {
     "data": {
      "text/latex": [
       "$\\displaystyle  \\alpha^{5}=2 \\alpha^{4}+2 \\alpha^{2}+2 \\alpha+2$"
      ],
      "text/plain": [
       "<IPython.core.display.Math object>"
      ]
     },
     "metadata": {},
     "output_type": "display_data"
    },
    {
     "data": {
      "text/latex": [
       "$\\displaystyle  \\alpha^{5}=2 \\alpha^{4}+ \\alpha^{3}+2$"
      ],
      "text/plain": [
       "<IPython.core.display.Math object>"
      ]
     },
     "metadata": {},
     "output_type": "display_data"
    },
    {
     "data": {
      "text/latex": [
       "$\\displaystyle  \\alpha^{5}=2 \\alpha^{4}+ \\alpha^{3}+ \\alpha+1$"
      ],
      "text/plain": [
       "<IPython.core.display.Math object>"
      ]
     },
     "metadata": {},
     "output_type": "display_data"
    },
    {
     "data": {
      "text/latex": [
       "$\\displaystyle  \\alpha^{5}=2 \\alpha^{4}+ \\alpha^{3}+ \\alpha^{2}+1$"
      ],
      "text/plain": [
       "<IPython.core.display.Math object>"
      ]
     },
     "metadata": {},
     "output_type": "display_data"
    },
    {
     "data": {
      "text/latex": [
       "$\\displaystyle  \\alpha^{5}=2 \\alpha^{4}+ \\alpha^{3}+ \\alpha^{2}+2$"
      ],
      "text/plain": [
       "<IPython.core.display.Math object>"
      ]
     },
     "metadata": {},
     "output_type": "display_data"
    },
    {
     "data": {
      "text/latex": [
       "$\\displaystyle  \\alpha^{5}=2 \\alpha^{4}+ \\alpha^{3}+2 \\alpha^{2}+1$"
      ],
      "text/plain": [
       "<IPython.core.display.Math object>"
      ]
     },
     "metadata": {},
     "output_type": "display_data"
    },
    {
     "data": {
      "text/latex": [
       "$\\displaystyle  \\alpha^{5}=2 \\alpha^{4}+ \\alpha^{3}+2 \\alpha^{2}+2 \\alpha+2$"
      ],
      "text/plain": [
       "<IPython.core.display.Math object>"
      ]
     },
     "metadata": {},
     "output_type": "display_data"
    },
    {
     "data": {
      "text/latex": [
       "$\\displaystyle  \\alpha^{5}=2 \\alpha^{4}+2 \\alpha^{3}+2 \\alpha+2$"
      ],
      "text/plain": [
       "<IPython.core.display.Math object>"
      ]
     },
     "metadata": {},
     "output_type": "display_data"
    },
    {
     "data": {
      "text/latex": [
       "$\\displaystyle  \\alpha^{5}=2 \\alpha^{4}+2 \\alpha^{3}+ \\alpha^{2}+2 \\alpha+1$"
      ],
      "text/plain": [
       "<IPython.core.display.Math object>"
      ]
     },
     "metadata": {},
     "output_type": "display_data"
    },
    {
     "data": {
      "text/latex": [
       "$\\displaystyle  \\alpha^{5}=2 \\alpha^{4}+2 \\alpha^{3}+ \\alpha^{2}+2 \\alpha+2$"
      ],
      "text/plain": [
       "<IPython.core.display.Math object>"
      ]
     },
     "metadata": {},
     "output_type": "display_data"
    },
    {
     "data": {
      "text/latex": [
       "$\\displaystyle  \\alpha^{5}=2 \\alpha^{4}+2 \\alpha^{3}+2 \\alpha^{2}+ \\alpha+2$"
      ],
      "text/plain": [
       "<IPython.core.display.Math object>"
      ]
     },
     "metadata": {},
     "output_type": "display_data"
    }
   ],
   "source": [
    "for element in menge:\n",
    "    defrel.print_def_rel(element)"
   ]
  },
  {
   "cell_type": "markdown",
   "id": "db7fe55b",
   "metadata": {},
   "source": [
    "#### Alle Minimalpolynome von $\\mathbb F_{243}$ mit $243=3^5$ "
   ]
  },
  {
   "cell_type": "code",
   "execution_count": 13,
   "id": "3d9c93ac",
   "metadata": {
    "scrolled": true
   },
   "outputs": [
    {
     "data": {
      "text/latex": [
       "$\\displaystyle X^{5}+X+1$"
      ],
      "text/plain": [
       "<IPython.core.display.Math object>"
      ]
     },
     "metadata": {},
     "output_type": "display_data"
    },
    {
     "data": {
      "text/latex": [
       "$\\displaystyle X^{5}+X$"
      ],
      "text/plain": [
       "<IPython.core.display.Math object>"
      ]
     },
     "metadata": {},
     "output_type": "display_data"
    },
    {
     "data": {
      "text/latex": [
       "$\\displaystyle X^{5}+X^{2}$"
      ],
      "text/plain": [
       "<IPython.core.display.Math object>"
      ]
     },
     "metadata": {},
     "output_type": "display_data"
    },
    {
     "data": {
      "text/latex": [
       "$\\displaystyle X^{5}+1$"
      ],
      "text/plain": [
       "<IPython.core.display.Math object>"
      ]
     },
     "metadata": {},
     "output_type": "display_data"
    },
    {
     "data": {
      "text/latex": [
       "$\\displaystyle X^{5}+X^{3}+X^{2}+1$"
      ],
      "text/plain": [
       "<IPython.core.display.Math object>"
      ]
     },
     "metadata": {},
     "output_type": "display_data"
    },
    {
     "data": {
      "text/latex": [
       "$\\displaystyle X^{5}+X^{3}+X^{2}+X$"
      ],
      "text/plain": [
       "<IPython.core.display.Math object>"
      ]
     },
     "metadata": {},
     "output_type": "display_data"
    },
    {
     "data": {
      "text/latex": [
       "$\\displaystyle X^{5}+X^{3}+X^{2}$"
      ],
      "text/plain": [
       "<IPython.core.display.Math object>"
      ]
     },
     "metadata": {},
     "output_type": "display_data"
    },
    {
     "data": {
      "text/latex": [
       "$\\displaystyle X^{5}+X^{3}$"
      ],
      "text/plain": [
       "<IPython.core.display.Math object>"
      ]
     },
     "metadata": {},
     "output_type": "display_data"
    },
    {
     "data": {
      "text/latex": [
       "$\\displaystyle X^{5}+X^{3}+X+1$"
      ],
      "text/plain": [
       "<IPython.core.display.Math object>"
      ]
     },
     "metadata": {},
     "output_type": "display_data"
    },
    {
     "data": {
      "text/latex": [
       "$\\displaystyle X^{5}+X^{3}+1$"
      ],
      "text/plain": [
       "<IPython.core.display.Math object>"
      ]
     },
     "metadata": {},
     "output_type": "display_data"
    },
    {
     "data": {
      "text/latex": [
       "$\\displaystyle X^{5}+1$"
      ],
      "text/plain": [
       "<IPython.core.display.Math object>"
      ]
     },
     "metadata": {},
     "output_type": "display_data"
    },
    {
     "data": {
      "text/latex": [
       "$\\displaystyle X^{5}$"
      ],
      "text/plain": [
       "<IPython.core.display.Math object>"
      ]
     },
     "metadata": {},
     "output_type": "display_data"
    },
    {
     "data": {
      "text/latex": [
       "$\\displaystyle X^{5}+X^{2}$"
      ],
      "text/plain": [
       "<IPython.core.display.Math object>"
      ]
     },
     "metadata": {},
     "output_type": "display_data"
    },
    {
     "data": {
      "text/latex": [
       "$\\displaystyle X^{5}+X^{2}+X$"
      ],
      "text/plain": [
       "<IPython.core.display.Math object>"
      ]
     },
     "metadata": {},
     "output_type": "display_data"
    },
    {
     "data": {
      "text/latex": [
       "$\\displaystyle X^{5}+1$"
      ],
      "text/plain": [
       "<IPython.core.display.Math object>"
      ]
     },
     "metadata": {},
     "output_type": "display_data"
    },
    {
     "data": {
      "text/latex": [
       "$\\displaystyle X^{5}+X+1$"
      ],
      "text/plain": [
       "<IPython.core.display.Math object>"
      ]
     },
     "metadata": {},
     "output_type": "display_data"
    },
    {
     "data": {
      "text/latex": [
       "$\\displaystyle X^{5}+X^{4}$"
      ],
      "text/plain": [
       "<IPython.core.display.Math object>"
      ]
     },
     "metadata": {},
     "output_type": "display_data"
    },
    {
     "data": {
      "text/latex": [
       "$\\displaystyle X^{5}+X^{4}+X+1$"
      ],
      "text/plain": [
       "<IPython.core.display.Math object>"
      ]
     },
     "metadata": {},
     "output_type": "display_data"
    },
    {
     "data": {
      "text/latex": [
       "$\\displaystyle X^{5}+X^{4}$"
      ],
      "text/plain": [
       "<IPython.core.display.Math object>"
      ]
     },
     "metadata": {},
     "output_type": "display_data"
    },
    {
     "data": {
      "text/latex": [
       "$\\displaystyle X^{5}+X^{4}+X^{2}+1$"
      ],
      "text/plain": [
       "<IPython.core.display.Math object>"
      ]
     },
     "metadata": {},
     "output_type": "display_data"
    },
    {
     "data": {
      "text/latex": [
       "$\\displaystyle X^{5}+X^{4}+X^{2}+X$"
      ],
      "text/plain": [
       "<IPython.core.display.Math object>"
      ]
     },
     "metadata": {},
     "output_type": "display_data"
    },
    {
     "data": {
      "text/latex": [
       "$\\displaystyle X^{5}+X^{4}+X^{2}+1$"
      ],
      "text/plain": [
       "<IPython.core.display.Math object>"
      ]
     },
     "metadata": {},
     "output_type": "display_data"
    },
    {
     "data": {
      "text/latex": [
       "$\\displaystyle X^{5}+X^{4}+X^{3}+1$"
      ],
      "text/plain": [
       "<IPython.core.display.Math object>"
      ]
     },
     "metadata": {},
     "output_type": "display_data"
    },
    {
     "data": {
      "text/latex": [
       "$\\displaystyle X^{5}+X^{4}+X^{3}+X$"
      ],
      "text/plain": [
       "<IPython.core.display.Math object>"
      ]
     },
     "metadata": {},
     "output_type": "display_data"
    },
    {
     "data": {
      "text/latex": [
       "$\\displaystyle X^{5}+X^{4}+X^{3}+X^{2}$"
      ],
      "text/plain": [
       "<IPython.core.display.Math object>"
      ]
     },
     "metadata": {},
     "output_type": "display_data"
    },
    {
     "data": {
      "text/latex": [
       "$\\displaystyle X^{5}+X^{4}+X^{3}+X^{2}+1$"
      ],
      "text/plain": [
       "<IPython.core.display.Math object>"
      ]
     },
     "metadata": {},
     "output_type": "display_data"
    },
    {
     "data": {
      "text/latex": [
       "$\\displaystyle X^{5}+X^{4}+X^{3}+1$"
      ],
      "text/plain": [
       "<IPython.core.display.Math object>"
      ]
     },
     "metadata": {},
     "output_type": "display_data"
    },
    {
     "data": {
      "text/latex": [
       "$\\displaystyle X^{5}+X^{4}+X^{3}$"
      ],
      "text/plain": [
       "<IPython.core.display.Math object>"
      ]
     },
     "metadata": {},
     "output_type": "display_data"
    },
    {
     "data": {
      "text/latex": [
       "$\\displaystyle X^{5}+X^{4}+1$"
      ],
      "text/plain": [
       "<IPython.core.display.Math object>"
      ]
     },
     "metadata": {},
     "output_type": "display_data"
    },
    {
     "data": {
      "text/latex": [
       "$\\displaystyle X^{5}+X^{4}+X^{2}+X+1$"
      ],
      "text/plain": [
       "<IPython.core.display.Math object>"
      ]
     },
     "metadata": {},
     "output_type": "display_data"
    },
    {
     "data": {
      "text/latex": [
       "$\\displaystyle X^{5}+X^{4}+1$"
      ],
      "text/plain": [
       "<IPython.core.display.Math object>"
      ]
     },
     "metadata": {},
     "output_type": "display_data"
    },
    {
     "data": {
      "text/latex": [
       "$\\displaystyle X^{5}+X^{4}$"
      ],
      "text/plain": [
       "<IPython.core.display.Math object>"
      ]
     },
     "metadata": {},
     "output_type": "display_data"
    },
    {
     "data": {
      "text/latex": [
       "$\\displaystyle X^{5}+1$"
      ],
      "text/plain": [
       "<IPython.core.display.Math object>"
      ]
     },
     "metadata": {},
     "output_type": "display_data"
    },
    {
     "data": {
      "text/latex": [
       "$\\displaystyle X^{5}+X$"
      ],
      "text/plain": [
       "<IPython.core.display.Math object>"
      ]
     },
     "metadata": {},
     "output_type": "display_data"
    },
    {
     "data": {
      "text/latex": [
       "$\\displaystyle X^{5}+1$"
      ],
      "text/plain": [
       "<IPython.core.display.Math object>"
      ]
     },
     "metadata": {},
     "output_type": "display_data"
    },
    {
     "data": {
      "text/latex": [
       "$\\displaystyle X^{5}$"
      ],
      "text/plain": [
       "<IPython.core.display.Math object>"
      ]
     },
     "metadata": {},
     "output_type": "display_data"
    },
    {
     "data": {
      "text/latex": [
       "$\\displaystyle X^{5}+X+1$"
      ],
      "text/plain": [
       "<IPython.core.display.Math object>"
      ]
     },
     "metadata": {},
     "output_type": "display_data"
    },
    {
     "data": {
      "text/latex": [
       "$\\displaystyle X^{5}$"
      ],
      "text/plain": [
       "<IPython.core.display.Math object>"
      ]
     },
     "metadata": {},
     "output_type": "display_data"
    },
    {
     "data": {
      "text/latex": [
       "$\\displaystyle X^{5}+X^{3}$"
      ],
      "text/plain": [
       "<IPython.core.display.Math object>"
      ]
     },
     "metadata": {},
     "output_type": "display_data"
    },
    {
     "data": {
      "text/latex": [
       "$\\displaystyle X^{5}+X^{3}+X+1$"
      ],
      "text/plain": [
       "<IPython.core.display.Math object>"
      ]
     },
     "metadata": {},
     "output_type": "display_data"
    },
    {
     "data": {
      "text/latex": [
       "$\\displaystyle X^{5}+X^{3}+X^{2}+1$"
      ],
      "text/plain": [
       "<IPython.core.display.Math object>"
      ]
     },
     "metadata": {},
     "output_type": "display_data"
    },
    {
     "data": {
      "text/latex": [
       "$\\displaystyle X^{5}+X^{3}+X^{2}$"
      ],
      "text/plain": [
       "<IPython.core.display.Math object>"
      ]
     },
     "metadata": {},
     "output_type": "display_data"
    },
    {
     "data": {
      "text/latex": [
       "$\\displaystyle X^{5}+X^{3}+1$"
      ],
      "text/plain": [
       "<IPython.core.display.Math object>"
      ]
     },
     "metadata": {},
     "output_type": "display_data"
    },
    {
     "data": {
      "text/latex": [
       "$\\displaystyle X^{5}+X^{3}$"
      ],
      "text/plain": [
       "<IPython.core.display.Math object>"
      ]
     },
     "metadata": {},
     "output_type": "display_data"
    },
    {
     "data": {
      "text/latex": [
       "$\\displaystyle X^{5}$"
      ],
      "text/plain": [
       "<IPython.core.display.Math object>"
      ]
     },
     "metadata": {},
     "output_type": "display_data"
    },
    {
     "data": {
      "text/latex": [
       "$\\displaystyle X^{5}+X^{2}+1$"
      ],
      "text/plain": [
       "<IPython.core.display.Math object>"
      ]
     },
     "metadata": {},
     "output_type": "display_data"
    },
    {
     "data": {
      "text/latex": [
       "$\\displaystyle X^{5}+X^{2}$"
      ],
      "text/plain": [
       "<IPython.core.display.Math object>"
      ]
     },
     "metadata": {},
     "output_type": "display_data"
    },
    {
     "data": {
      "text/latex": [
       "$\\displaystyle X^{5}+X$"
      ],
      "text/plain": [
       "<IPython.core.display.Math object>"
      ]
     },
     "metadata": {},
     "output_type": "display_data"
    }
   ],
   "source": [
    "for element in menge:\n",
    "    defrel.print_minpolynom(defrel.relation_to_polynom(element,2))"
   ]
  },
  {
   "cell_type": "markdown",
   "id": "912bf8cb",
   "metadata": {},
   "source": [
    "### Beispiele FqRechner"
   ]
  },
  {
   "cell_type": "markdown",
   "id": "a7d402cc",
   "metadata": {},
   "source": [
    "$(\\alpha^3+2\\alpha^2+4)+(2\\alpha^3+5\\alpha^2+2\\alpha+3)$ innerhalb des Erweiterungskörpers $\\mathbb F_{2401}$ mit $2401=7^4$"
   ]
  },
  {
   "cell_type": "code",
   "execution_count": 31,
   "id": "0d655087",
   "metadata": {},
   "outputs": [],
   "source": [
    "y1=Fq.summe((1,2,0,4),(2,5,2,3),7)"
   ]
  },
  {
   "cell_type": "code",
   "execution_count": 32,
   "id": "5a647906",
   "metadata": {},
   "outputs": [
    {
     "data": {
      "text/latex": [
       "$\\displaystyle 3 \\alpha^{3}+2 \\alpha$"
      ],
      "text/plain": [
       "<IPython.core.display.Math object>"
      ]
     },
     "metadata": {},
     "output_type": "display_data"
    }
   ],
   "source": [
    "Fq.print_element(y1)"
   ]
  },
  {
   "cell_type": "markdown",
   "id": "00e62375",
   "metadata": {},
   "source": [
    "$(\\alpha^3+2\\alpha^2+4)-(2\\alpha^3+5\\alpha^2+2\\alpha+3)$ innerhalb des Erweiterungskörpers $\\mathbb F_{2401}$ mit $2401=7^4$"
   ]
  },
  {
   "cell_type": "code",
   "execution_count": 33,
   "id": "176818f6",
   "metadata": {},
   "outputs": [],
   "source": [
    "y2=Fq.differenz((1,2,0,4),(2,5,2,3),7)"
   ]
  },
  {
   "cell_type": "code",
   "execution_count": 34,
   "id": "000d4ff6",
   "metadata": {},
   "outputs": [
    {
     "data": {
      "text/latex": [
       "$\\displaystyle 6 \\alpha^{3}+4 \\alpha^{2}+5 \\alpha+1$"
      ],
      "text/plain": [
       "<IPython.core.display.Math object>"
      ]
     },
     "metadata": {},
     "output_type": "display_data"
    }
   ],
   "source": [
    "Fq.print_element(y2)"
   ]
  },
  {
   "cell_type": "markdown",
   "id": "9a5bb6f6",
   "metadata": {},
   "source": [
    "$(\\alpha^3+2\\alpha^2+2)\\cdot(\\alpha^3+\\alpha^2+2\\alpha+1)$ innerhalb des Erweiterungskörpers $\\mathbb F_{81}$ mit $81=3^4$ beschrieben durch die definierende Relation $\\alpha^4=\\alpha^2+1$"
   ]
  },
  {
   "cell_type": "code",
   "execution_count": 35,
   "id": "6bd054e0",
   "metadata": {},
   "outputs": [],
   "source": [
    "y3=Fq.produkt((1,2,0,2),(1,1,2,1),(0,1,0,1),3)"
   ]
  },
  {
   "cell_type": "code",
   "execution_count": 36,
   "id": "778751e8",
   "metadata": {},
   "outputs": [
    {
     "data": {
      "text/latex": [
       "$\\displaystyle  \\alpha^{3}+ \\alpha^{2}+ \\alpha+1$"
      ],
      "text/plain": [
       "<IPython.core.display.Math object>"
      ]
     },
     "metadata": {},
     "output_type": "display_data"
    }
   ],
   "source": [
    "Fq.print_element(y3)"
   ]
  },
  {
   "cell_type": "markdown",
   "id": "08180b1a",
   "metadata": {},
   "source": [
    "$\\frac{1}{\\alpha^2+2}$ innerhalb des Erweiterungskörpers $\\mathbb F_{27}$ mit $27=3^3$ beschrieben durch die definierende Relation $\\alpha^3=2\\alpha^2+\\alpha+2$"
   ]
  },
  {
   "cell_type": "code",
   "execution_count": 39,
   "id": "46b9f661",
   "metadata": {},
   "outputs": [],
   "source": [
    "y4=Fq.inverses((1,0,2),(2,1,2),3)"
   ]
  },
  {
   "cell_type": "code",
   "execution_count": 40,
   "id": "0e16e20f",
   "metadata": {},
   "outputs": [
    {
     "data": {
      "text/latex": [
       "$\\displaystyle  \\alpha+1$"
      ],
      "text/plain": [
       "<IPython.core.display.Math object>"
      ]
     },
     "metadata": {},
     "output_type": "display_data"
    }
   ],
   "source": [
    "Fq.print_element(y4)"
   ]
  },
  {
   "cell_type": "code",
   "execution_count": 41,
   "id": "1f17bc8d",
   "metadata": {},
   "outputs": [],
   "source": [
    "y5=Fq.divide((1,),(1,0,2),(2,1,2),3)"
   ]
  },
  {
   "cell_type": "code",
   "execution_count": 43,
   "id": "2af092ae",
   "metadata": {},
   "outputs": [
    {
     "data": {
      "text/latex": [
       "$\\displaystyle  \\alpha+1$"
      ],
      "text/plain": [
       "<IPython.core.display.Math object>"
      ]
     },
     "metadata": {},
     "output_type": "display_data"
    }
   ],
   "source": [
    "Fq.print_element(y5)"
   ]
  }
 ],
 "metadata": {
  "kernelspec": {
   "display_name": "Python 3 (ipykernel)",
   "language": "python",
   "name": "python3"
  },
  "language_info": {
   "codemirror_mode": {
    "name": "ipython",
    "version": 3
   },
   "file_extension": ".py",
   "mimetype": "text/x-python",
   "name": "python",
   "nbconvert_exporter": "python",
   "pygments_lexer": "ipython3",
   "version": "3.11.0"
  }
 },
 "nbformat": 4,
 "nbformat_minor": 5
}
